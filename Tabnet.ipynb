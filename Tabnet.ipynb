{
 "cells": [
  {
   "cell_type": "markdown",
   "metadata": {},
   "source": [
    "# Tabnet: Attentive Tabular Learning"
   ]
  },
  {
   "cell_type": "code",
   "execution_count": 49,
   "metadata": {},
   "outputs": [],
   "source": [
    "import pandas as pd                                        # pandas dataframes\n",
    "import numpy  as np                                        # numpy arrays\n",
    "import torch                                               # Pytorch: neural network backend\n",
    "from pytorch_tabnet.tab_model import TabNetClassifier      # Tabnet: neural network models for tabular learning\n",
    "from sklearn.model_selection import KFold                  # k-fold cross-validation\n",
    "from sklearn.metrics import accuracy_score                 # classification accuracy\n",
    "from sklearn.metrics import cohen_kappa_score              # loss function appropriate for imbalanced classes"
   ]
  },
  {
   "cell_type": "code",
   "execution_count": 44,
   "metadata": {},
   "outputs": [],
   "source": [
    "url = \"https://archive.ics.uci.edu/ml/machine-learning-databases/breast-cancer-wisconsin/wdbc.data\"\n",
    "\n",
    "# wisconsin diagnostic breast cancer data set\n",
    "wdbc = pd.read_csv(url, header=None, usecols=range(1, 32)) # remove zeroth column (irrelevant index feature)\n",
    "label = list(wdbc.columns)[0]                              # column name of the class label\n",
    "features = list(wdbc.columns)[1:]                          # column names of the features\n",
    "y = pd.factorize(wdbc[label])[0]                           # y-vector (with target encoding)\n",
    "X = wdbc[features]                                         # design matrix"
   ]
  },
  {
   "cell_type": "code",
   "execution_count": 45,
   "metadata": {
    "scrolled": true
   },
   "outputs": [],
   "source": [
    "X = X.to_numpy()     # encode for PyTorch\n",
    "y = torch.tensor(y)  # encode for PyTorch"
   ]
  },
  {
   "cell_type": "code",
   "execution_count": 46,
   "metadata": {},
   "outputs": [
    {
     "output_type": "execute_result",
     "data": {
      "text/plain": [
       "array([[1.799e+01, 1.038e+01, 1.228e+02, ..., 2.654e-01, 4.601e-01,\n",
       "        1.189e-01],\n",
       "       [2.057e+01, 1.777e+01, 1.329e+02, ..., 1.860e-01, 2.750e-01,\n",
       "        8.902e-02],\n",
       "       [1.969e+01, 2.125e+01, 1.300e+02, ..., 2.430e-01, 3.613e-01,\n",
       "        8.758e-02],\n",
       "       ...,\n",
       "       [1.660e+01, 2.808e+01, 1.083e+02, ..., 1.418e-01, 2.218e-01,\n",
       "        7.820e-02],\n",
       "       [2.060e+01, 2.933e+01, 1.401e+02, ..., 2.650e-01, 4.087e-01,\n",
       "        1.240e-01],\n",
       "       [7.760e+00, 2.454e+01, 4.792e+01, ..., 0.000e+00, 2.871e-01,\n",
       "        7.039e-02]])"
      ]
     },
     "metadata": {},
     "execution_count": 46
    }
   ],
   "source": [
    "X # preview"
   ]
  },
  {
   "cell_type": "code",
   "execution_count": 47,
   "metadata": {},
   "outputs": [
    {
     "output_type": "execute_result",
     "data": {
      "text/plain": [
       "tensor([0, 0, 0, 0, 0, 0, 0, 0, 0, 0, 0, 0, 0, 0, 0, 0, 0, 0, 0, 1, 1, 1, 0, 0,\n",
       "        0, 0, 0, 0, 0, 0, 0, 0, 0, 0, 0, 0, 0, 1, 0, 0])"
      ]
     },
     "metadata": {},
     "execution_count": 47
    }
   ],
   "source": [
    "y[0:40] # preview"
   ]
  },
  {
   "cell_type": "code",
   "execution_count": 52,
   "metadata": {
    "tags": []
   },
   "outputs": [
    {
     "output_type": "stream",
     "name": "stdout",
     "text": [
      "\n",
      "Early stopping occured at epoch 113 with best_epoch = 13 and best_val_0_logloss = 1.87535\n",
      "Best weights from best epoch are automatically used!\n",
      "True class labels: tensor([0, 0, 0, 0, 0, 0, 0, 0, 1, 0])\n",
      "Predicted class labels: [0 0 0 0 0 0 0 1 0 0]\n",
      "Kappa: 0.2348993288590604\n",
      "Accuracy: 0.5614035087719298\n",
      "\n",
      "Early stopping occured at epoch 100 with best_epoch = 0 and best_val_0_logloss = 2.72705\n",
      "Best weights from best epoch are automatically used!\n",
      "True class labels: tensor([0, 0, 0, 0, 0, 1, 0, 0, 0, 0])\n",
      "Predicted class labels: [0 1 1 1 0 1 0 0 0 0]\n",
      "Kappa: 0.38827136834036025\n",
      "Accuracy: 0.7543859649122807\n",
      "\n",
      "Early stopping occured at epoch 103 with best_epoch = 3 and best_val_0_logloss = 3.29532\n",
      "Best weights from best epoch are automatically used!\n",
      "True class labels: tensor([0, 0, 0, 0, 0, 0, 1, 0, 0, 1])\n",
      "Predicted class labels: [0 1 1 0 1 1 0 0 0 1]\n",
      "Kappa: 0.2411497730711044\n",
      "Accuracy: 0.6140350877192983\n",
      "\n",
      "Early stopping occured at epoch 107 with best_epoch = 7 and best_val_0_logloss = 0.9569\n",
      "Best weights from best epoch are automatically used!\n",
      "True class labels: tensor([0, 0, 0, 0, 0, 0, 0, 0, 1, 0])\n",
      "Predicted class labels: [0 0 1 1 0 1 0 0 1 0]\n",
      "Kappa: 0.3423760523854068\n",
      "Accuracy: 0.6754385964912281\n",
      "\n",
      "Early stopping occured at epoch 549 with best_epoch = 449 and best_val_0_logloss = 0.24836\n",
      "Best weights from best epoch are automatically used!\n",
      "True class labels: tensor([0, 0, 0, 0, 1, 1, 0, 0, 0, 0])\n",
      "Predicted class labels: [0 0 0 0 1 1 0 0 0 0]\n",
      "Kappa: 0.8721099434114794\n",
      "Accuracy: 0.9380530973451328\n"
     ]
    }
   ],
   "source": [
    "kf = KFold(n_splits=5, random_state=42, shuffle=True)  # define k-fold cross-validation plan\n",
    "\n",
    "predictions_array = [] # initialize list of out-of-fold predictions\n",
    "CV_score_array    = [] # initialize list of cross-validation scores\n",
    "\n",
    "for train_index, test_index in kf.split(X):\n",
    "    \n",
    "    X_train, X_valid = X[train_index], X[test_index]   # X variables\n",
    "    y_train, y_valid = y[train_index], y[test_index]   # y vector\n",
    "    \n",
    "    classifier = TabNetClassifier(verbose=0,seed=42)   # define the model\n",
    "    \n",
    "    classifier.fit(X_train=X_train, y_train=y_train,   # in-sample data\n",
    "               eval_set=[(X_valid, y_valid)],          # out-of-fold data\n",
    "               patience=100,                           # stopping threshhold if no improvement\n",
    "               max_epochs=2000,                        # maximum training epochs\n",
    "               eval_metric=['logloss'])                # loss function to optimize\n",
    "    \n",
    "    CV_score_array.append(classifier.best_cost)\n",
    "    predictions_array.append(np.expm1(classifier.predict(X_valid)))\n",
    "    \n",
    "    print(\"True class labels:\", y_valid[0:10])\n",
    "    print(\"Predicted class labels:\", classifier.predict(X_valid[0:10]))\n",
    "    print(\"Kappa:\", cohen_kappa_score(y1=y_valid, y2=classifier.predict(X_valid)))\n",
    "    print(\"Accuracy:\", accuracy_score(y_true=y_valid, y_pred=classifier.predict(X_valid)))\n",
    "\n",
    "    # ignore UserWarning: CUDA initialization: Found no NVIDIA driver on your system"
   ]
  },
  {
   "cell_type": "code",
   "execution_count": null,
   "metadata": {},
   "outputs": [],
   "source": [
    "# TODO: examine hyperparams"
   ]
  }
 ],
 "metadata": {
  "kernelspec": {
   "display_name": "Python 3.6.9 64-bit",
   "language": "python",
   "name": "python36964bitb6e054adbab245c882617ace8b00a156"
  },
  "language_info": {
   "codemirror_mode": {
    "name": "ipython",
    "version": 3
   },
   "file_extension": ".py",
   "mimetype": "text/x-python",
   "name": "python",
   "nbconvert_exporter": "python",
   "pygments_lexer": "ipython3",
   "version": "3.6.9-final"
  }
 },
 "nbformat": 4,
 "nbformat_minor": 4
}